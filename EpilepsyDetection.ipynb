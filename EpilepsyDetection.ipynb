{
 "cells": [
  {
   "cell_type": "code",
   "execution_count": 9,
   "metadata": {
    "collapsed": true
   },
   "outputs": [],
   "source": [
    "import torch\n",
    "import torchvision\n",
    "import torchvision.transforms as transforms\n",
    "import torch.nn as nn\n",
    "import torch.nn.functional as F\n",
    "import torch.optim as optim\n",
    "import mne\n",
    "import numpy as np\n",
    "import matplotlib.pyplot as plt"
   ]
  },
  {
   "cell_type": "code",
   "execution_count": 3,
   "outputs": [],
   "source": [
    "#Takes string with file path as argument (eg. \"/files/file.edf.seizure)\n",
    "#Returns array on the format [1st seizure start time, 1st seizure start time in samples, 1st seizure end time, 1st seizure end time in samples, ...... , nth seizure start time, nth seizure start time in samples, nth seizure end time, nth seizure end time in samples]\n",
    "\n",
    "def openSeizure(file):\n",
    "    data = []\n",
    "    with open(file,\"rb\") as f:\n",
    "        buf = []\n",
    "        byte = f.read(1)\n",
    "        i = 0\n",
    "        while byte:\n",
    "            byte = f.read(1)\n",
    "            if len(buf)<4:\n",
    "                buf.append(byte)\n",
    "            else:\n",
    "                buf = buf[1:] #throw away oldest byte\n",
    "                buf.append(byte) #append new byte to end.\n",
    "            i = i+1\n",
    "            #print(byte)\n",
    "\n",
    "            if buf ==[b'\\x01', b'\\x00',b'\\x00',b'\\xec']: #0x010000ec appears to be a control sequence of some sort, signifying beginning of seizure data\n",
    "                while byte:\n",
    "                    byte = f.read(1) #next byte should be msb of seizure offset in seconds\n",
    "                    if byte == b'':\n",
    "                        continue #if byte is empty we've reached end of file\n",
    "                    data.append(byte)\n",
    "                    f.seek(2,1) #skip over next 2 bytes, they seem unimportant\n",
    "                    byte = f.read(1)#this byte should be lsb of seizure offset in seconds\n",
    "                    data.append(byte)\n",
    "                    f.seek(7,1)#skip over next 7 bytes, again they seem unimportant\n",
    "                    byte = f.read(1)#this should be the length of seizure in seconds\n",
    "                    data.append(byte)\n",
    "                    f.seek(4,1)#skip over next 4 bytes, if there are more seizures, looping should handle them.\n",
    "                continue # once we've finished reading the seizures, we're finished with the file\n",
    "\n",
    "        #print(data)\n",
    "    legible_data = []\n",
    "    i = 0\n",
    "    currentTimePointer = 0 #the time points seem to be in offsets from last event for some godforsaken reason so this is for keeping current time\n",
    "    while i<len(data):\n",
    "        startTimeSec = data[i] + data[i+1]\n",
    "        lengthSecInt = int.from_bytes(data[i+2], \"big\")\n",
    "        startTimeSecInt = int.from_bytes(startTimeSec, \"big\") #get ints from parsed bytes\n",
    "        currentTimePointer = currentTimePointer + startTimeSecInt #increment current time by start seizure event offset\n",
    "        legible_data.append(currentTimePointer) #add current time to array\n",
    "        legible_data.append(currentTimePointer*256) #convert seconds to samples\n",
    "        currentTimePointer = currentTimePointer + lengthSecInt #increment current time by end of the seizure event offset\n",
    "        legible_data.append(currentTimePointer) #add current time to array\n",
    "        legible_data.append(currentTimePointer*256) #convert seconds to samples\n",
    "        i = i+3 #weve got 3 datapoints per seizure so just move to the next one\n",
    "    print(file)#print the file path for clarity\n",
    "    print(legible_data)#print the datapoints for clarity\n",
    "    return legible_data\n",
    "#some test code, disregard\n",
    "#openSeizure(\"chb04_05.edf.seizures\")\n",
    "#openSeizure(\"chb04_08.edf.seizures\")\n",
    "#openSeizure(\"chb04_28.edf.seizures\")\n",
    "#openSeizure(\"chb17b_63.edf.seizures\")"
   ],
   "metadata": {
    "collapsed": false,
    "pycharm": {
     "name": "#%%\n"
    }
   }
  },
  {
   "cell_type": "code",
   "execution_count": 4,
   "outputs": [
    {
     "name": "stdout",
     "output_type": "stream",
     "text": [
      "Extracting EDF parameters from C:\\Users\\Fabian\\PycharmProjects\\pythonProject\\data\\chb01\\chb01_03.edf...\n",
      "EDF file detected\n",
      "Setting channel info structure...\n",
      "Creating raw.info structure...\n"
     ]
    },
    {
     "name": "stderr",
     "output_type": "stream",
     "text": [
      "C:\\Users\\Fabian\\AppData\\Local\\Temp\\ipykernel_2544\\3572184683.py:2: RuntimeWarning: Channel names are not unique, found duplicates for: {'T8-P8'}. Applying running numbers for duplicates.\n",
      "  data = mne.io.read_raw_edf(file)\n"
     ]
    }
   ],
   "source": [
    "file = \"data\\\\chb01\\\\chb01_03.edf\"\n",
    "data = mne.io.read_raw_edf(file)\n",
    "raw_data = data.get_data()\n",
    "# you can get the metadata included in the file and a list of all channels:\n",
    "info = data.info\n",
    "channels = data.ch_names"
   ],
   "metadata": {
    "collapsed": false,
    "pycharm": {
     "name": "#%%\n"
    }
   }
  },
  {
   "cell_type": "code",
   "execution_count": 5,
   "outputs": [
    {
     "name": "stdout",
     "output_type": "stream",
     "text": [
      "921600\n",
      "23.0\n"
     ]
    }
   ],
   "source": [
    "print(raw_data[0].size)\n",
    "print(raw_data.size/raw_data[0].size)"
   ],
   "metadata": {
    "collapsed": false,
    "pycharm": {
     "name": "#%%\n"
    }
   }
  },
  {
   "cell_type": "code",
   "execution_count": 8,
   "outputs": [
    {
     "name": "stdout",
     "output_type": "stream",
     "text": [
      "data/chb01/chb01_04.edf.seizures\n",
      "[1467, 375552, 1494, 382464]\n"
     ]
    },
    {
     "data": {
      "text/plain": "[1467, 375552, 1494, 382464]"
     },
     "execution_count": 8,
     "metadata": {},
     "output_type": "execute_result"
    }
   ],
   "source": [
    "openSeizure(\"data/chb01/chb01_04.edf.seizures\")"
   ],
   "metadata": {
    "collapsed": false,
    "pycharm": {
     "name": "#%%\n"
    }
   }
  },
  {
   "cell_type": "code",
   "execution_count": 14,
   "outputs": [
    {
     "name": "stdout",
     "output_type": "stream",
     "text": [
      "data/chb01/chb01_04.edf.seizures\n",
      "[1467, 375552, 1494, 382464]\n"
     ]
    },
    {
     "data": {
      "text/plain": "<Figure size 640x480 with 1 Axes>",
      "image/png": "[encoded data removed]"
     },
     "metadata": {},
     "output_type": "display_data"
    }
   ],
   "source": [
    "time = range(0,raw_data[0].size)\n",
    "plt.plot(time,raw_data[0])\n",
    "xcoords = openSeizure(\"data/chb01/chb01_04.edf.seizures\")\n",
    "for xc in xcoords:\n",
    "    plt.axvline(x=xc, color='r')"
   ],
   "metadata": {
    "collapsed": false,
    "pycharm": {
     "name": "#%%\n"
    }
   }
  },
  {
   "cell_type": "code",
   "execution_count": null,
   "outputs": [],
   "source": [],
   "metadata": {
    "collapsed": false,
    "pycharm": {
     "name": "#%%\n"
    }
   }
  }
 ],
 "metadata": {
  "kernelspec": {
   "display_name": "Python 3",
   "language": "python",
   "name": "python3"
  },
  "language_info": {
   "codemirror_mode": {
    "name": "ipython",
    "version": 2
   },
   "file_extension": ".py",
   "mimetype": "text/x-python",
   "name": "python",
   "nbconvert_exporter": "python",
   "pygments_lexer": "ipython2",
   "version": "2.7.6"
  }
 },
 "nbformat": 4,
 "nbformat_minor": 0
}